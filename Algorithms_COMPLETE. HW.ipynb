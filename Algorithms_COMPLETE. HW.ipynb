{
 "cells": [
  {
   "cell_type": "markdown",
   "metadata": {},
   "source": [
    "# Algorithms & Binary Search"
   ]
  },
  {
   "cell_type": "markdown",
   "metadata": {},
   "source": [
    "## Tasks Today:\n",
    " \n",
    "1) <b>In-Place Algorithms</b> <br>\n",
    " &nbsp;&nbsp;&nbsp;&nbsp; a) Syntax <br>\n",
    " &nbsp;&nbsp;&nbsp;&nbsp; a) Out of Place Algorithm <br>\n",
    " &nbsp;&nbsp;&nbsp;&nbsp; b) In-Class Exercise #1 <br>\n",
    "2) <b>Two Pointers</b> <br>\n",
    "3) <b>Linked Lists</b> <br>\n",
    "4) <b>Merge Sort</b> <br>\n",
    " &nbsp;&nbsp;&nbsp;&nbsp; a) Video on Algorithms <br>\n",
    " &nbsp;&nbsp;&nbsp;&nbsp; b) How it Works <br>\n",
    "5) <b>Exercises</b> <br>\n",
    " &nbsp;&nbsp;&nbsp;&nbsp; a) Exercise #1 - Reverse a List in Place Using an In-Place Algorithm <br>\n",
    " &nbsp;&nbsp;&nbsp;&nbsp; b) Exercise #2 - Find Distinct Words <br>\n",
    " &nbsp;&nbsp;&nbsp;&nbsp; c) Exercise #3 - Write a program to implement a Linear Search Algorithm. <br>"
   ]
  },
  {
   "cell_type": "markdown",
   "metadata": {},
   "source": [
    "## In-Place Algorithms"
   ]
  },
  {
   "cell_type": "markdown",
   "metadata": {},
   "source": [
    "#### Syntax"
   ]
  },
  {
   "cell_type": "code",
   "execution_count": 7,
   "metadata": {},
   "outputs": [
    {
     "name": "stdout",
     "output_type": "stream",
     "text": [
      "1488130311680\n",
      "None\n",
      "1488130311680\n",
      "None\n"
     ]
    }
   ],
   "source": [
    "# modify the data in side its place in memory\n",
    "#typically you need to return, because you've acutally modified your input directly\n",
    "\n",
    "\n",
    "def double_nums(alist):\n",
    "    for index in range(len(alist)):\n",
    "        alist[index] = alist[index] * 2\n",
    "\n",
    "myList = [1,2,3,4,5]\n",
    "print(id(myList))\n",
    "\n",
    "\n",
    "doubled = double_nums(myList)\n",
    "print(doubled)\n",
    "\n",
    "print(id(myList))\n",
    "\n",
    "# .sort()\n",
    "\n",
    "new_list = myList.sort()\n",
    "\n",
    "print(new_list)"
   ]
  },
  {
   "cell_type": "markdown",
   "metadata": {},
   "source": [
    "#### Out of Place Algorithm"
   ]
  },
  {
   "cell_type": "code",
   "execution_count": 12,
   "metadata": {},
   "outputs": [
    {
     "name": "stdout",
     "output_type": "stream",
     "text": [
      "1488109820160\n",
      "1488109884480\n",
      "[1, 2, 3, 5]\n"
     ]
    }
   ],
   "source": [
    "#take the data make changes and then store the changes in a new position in memory\n",
    "\n",
    "def out_dn(alist):\n",
    "    output = []\n",
    "    for num in alist:\n",
    "        output.append(num*2)\n",
    "    return output\n",
    "\n",
    "myList = [1,2,3,4,5]\n",
    "print(id(myList))\n",
    "\n",
    "changedList = out_dn(myList)\n",
    "\n",
    "print(id(myList))\n",
    "\n",
    "\n",
    "# sorted()\n",
    "\n",
    "alist = [2,1,5,3]\n",
    "\n",
    "new = sorted(alist)\n",
    "\n",
    "print(new)\n"
   ]
  },
  {
   "cell_type": "markdown",
   "metadata": {},
   "source": [
    "#### In-Class Exercise #1 <br>\n",
    "<p>Write a function that takes in four arguments (list, index1, index2, index3), and swaps those three positions in the list passed in.</p>"
   ]
  },
  {
   "cell_type": "code",
   "execution_count": 16,
   "metadata": {},
   "outputs": [
    {
     "data": {
      "text/plain": [
       "[4, 3, 10, 8, 4, 2, 6]"
      ]
     },
     "execution_count": 16,
     "metadata": {},
     "output_type": "execute_result"
    }
   ],
   "source": [
    "l_1 = [10, 4, 3, 8, 4, 2, 6]\n",
    "\n",
    "x , y , z = 1, 2,3\n",
    "\n",
    "def in_swap(alist, i1, i2, i3):\n",
    "    alist[i1], alist[i2], alist[i3] = alist[i2], alist[i3], alist[i1]\n",
    "\n",
    "in_swap(l_1, 0, 1, 2)\n",
    "\n",
    "l_1\n",
    "\n",
    "\n"
   ]
  },
  {
   "cell_type": "markdown",
   "metadata": {},
   "source": [
    "## Two Pointers"
   ]
  },
  {
   "cell_type": "markdown",
   "metadata": {},
   "source": [
    "#### Syntax"
   ]
  },
  {
   "cell_type": "code",
   "execution_count": 19,
   "metadata": {},
   "outputs": [
    {
     "name": "stdout",
     "output_type": "stream",
     "text": [
      "None\n",
      "[6, 2, 4, 8, 4, 2, 6]\n"
     ]
    }
   ],
   "source": [
    "#Two-pointers algorithms that keep track of two indeces at the same time\n",
    "#many forms, can be used in searching, swaping, and sliding/growing windows\n",
    "\n",
    "l_1 = [10, 4, 3, 8, 4, 2, 6]\n",
    "\n",
    "def swapper(alist):\n",
    "\n",
    "    left = 0\n",
    "    right = len(alist) - 1\n",
    "\n",
    "    while left <= right:\n",
    "        \n",
    "        alist[left], alist[right] = alist[right], alist[left]\n",
    "        \n",
    "        left += 1\n",
    "        right -= 1\n",
    "\n",
    "\n",
    "\n",
    "print(swapper(l_1))\n",
    "print(l_1)\n",
    "\n",
    "\n",
    "\n"
   ]
  },
  {
   "cell_type": "markdown",
   "metadata": {},
   "source": [
    "#### Video of Algorithms <br>\n",
    "<p>Watch the video about algorithms.</p>\n",
    "\n",
    "https://www.youtube.com/watch?v=Q9HjeFD62Uk\n",
    "\n",
    "https://www.youtube.com/watch?v=kPRA0W1kECg\n",
    "\n",
    "https://www.youtube.com/watch?v=ZZuD6iUe3Pc"
   ]
  },
  {
   "cell_type": "markdown",
   "metadata": {},
   "source": [
    "# Sorting Algorithms"
   ]
  },
  {
   "cell_type": "markdown",
   "metadata": {},
   "source": [
    "#### Bubble Sort\n",
    "\n",
    "Worst Case: O(n^2) Time - O(1) Space"
   ]
  },
  {
   "cell_type": "code",
   "execution_count": 21,
   "metadata": {},
   "outputs": [
    {
     "name": "stdout",
     "output_type": "stream",
     "text": [
      "1\n",
      "[9, 5, 3, 7, 2, 1, 8]\n",
      "[5, 9, 3, 7, 2, 1, 8]\n",
      "[5, 3, 9, 7, 2, 1, 8]\n",
      "[5, 3, 7, 9, 2, 1, 8]\n",
      "[5, 3, 7, 2, 9, 1, 8]\n",
      "[5, 3, 7, 2, 1, 9, 8]\n",
      "2\n",
      "[5, 3, 7, 2, 1, 8, 9]\n",
      "[3, 5, 7, 2, 1, 8, 9]\n",
      "[3, 5, 7, 2, 1, 8, 9]\n",
      "[3, 5, 2, 7, 1, 8, 9]\n",
      "[3, 5, 2, 1, 7, 8, 9]\n",
      "[3, 5, 2, 1, 7, 8, 9]\n",
      "3\n",
      "[3, 5, 2, 1, 7, 8, 9]\n",
      "[3, 5, 2, 1, 7, 8, 9]\n",
      "[3, 2, 5, 1, 7, 8, 9]\n",
      "[3, 2, 1, 5, 7, 8, 9]\n",
      "[3, 2, 1, 5, 7, 8, 9]\n",
      "[3, 2, 1, 5, 7, 8, 9]\n",
      "4\n",
      "[3, 2, 1, 5, 7, 8, 9]\n",
      "[2, 3, 1, 5, 7, 8, 9]\n",
      "[2, 1, 3, 5, 7, 8, 9]\n",
      "[2, 1, 3, 5, 7, 8, 9]\n",
      "[2, 1, 3, 5, 7, 8, 9]\n",
      "[2, 1, 3, 5, 7, 8, 9]\n",
      "5\n",
      "[2, 1, 3, 5, 7, 8, 9]\n",
      "[1, 2, 3, 5, 7, 8, 9]\n",
      "[1, 2, 3, 5, 7, 8, 9]\n",
      "[1, 2, 3, 5, 7, 8, 9]\n",
      "[1, 2, 3, 5, 7, 8, 9]\n",
      "[1, 2, 3, 5, 7, 8, 9]\n",
      "6\n",
      "[1, 2, 3, 5, 7, 8, 9]\n",
      "[1, 2, 3, 5, 7, 8, 9]\n",
      "[1, 2, 3, 5, 7, 8, 9]\n",
      "[1, 2, 3, 5, 7, 8, 9]\n",
      "[1, 2, 3, 5, 7, 8, 9]\n",
      "[1, 2, 3, 5, 7, 8, 9]\n",
      "[1, 2, 3, 5, 7, 8, 9]\n"
     ]
    }
   ],
   "source": [
    "alist = [9, 5, 3, 7, 2, 1, 8]\n",
    "\n",
    "def swap(alist, x, y):\n",
    "    alist[x], alist[y] = alist[y], alist[x]\n",
    "\n",
    "\n",
    "def bubble(alist):\n",
    "\n",
    "    sorted = False\n",
    "    p = 0\n",
    "    while not sorted:\n",
    "        p+=1\n",
    "        print(p)\n",
    "        sorted = True\n",
    "        for index  in range(len(alist) - 1):\n",
    "            print(alist)\n",
    "            if alist[index] > alist[index + 1]:\n",
    "                swap(alist, index, index+1)\n",
    "                sorted = False\n",
    "        \n",
    "    \n",
    "bubble(alist)\n",
    "print(alist)"
   ]
  },
  {
   "cell_type": "markdown",
   "metadata": {},
   "source": [
    "##### Insertion Sort\n",
    "\n",
    "Worst Case: O(n^2) time - O(1)space"
   ]
  },
  {
   "cell_type": "code",
   "execution_count": 23,
   "metadata": {},
   "outputs": [
    {
     "name": "stdout",
     "output_type": "stream",
     "text": [
      "[9]\n",
      "5\n",
      "[9, 5]\n",
      "[5, 9]\n",
      "3\n",
      "[5, 9, 3]\n",
      "[5, 3, 9]\n",
      "[3, 5, 9]\n",
      "7\n",
      "[3, 5, 9, 7]\n",
      "[3, 5, 7, 9]\n",
      "2\n",
      "[3, 5, 7, 9, 2]\n",
      "[3, 5, 7, 2, 9]\n",
      "[3, 5, 2, 7, 9]\n",
      "[3, 2, 5, 7, 9]\n",
      "[2, 3, 5, 7, 9]\n",
      "1\n",
      "[2, 3, 5, 7, 9, 1]\n",
      "[2, 3, 5, 7, 1, 9]\n",
      "[2, 3, 5, 1, 7, 9]\n",
      "[2, 3, 1, 5, 7, 9]\n",
      "[2, 1, 3, 5, 7, 9]\n",
      "[1, 2, 3, 5, 7, 9]\n",
      "8\n",
      "[1, 2, 3, 5, 7, 9, 8]\n",
      "[1, 2, 3, 5, 7, 8, 9]\n"
     ]
    }
   ],
   "source": [
    "alist = [9, 5, 3, 7, 2, 1, 8]\n",
    "\n",
    "def swap(alist, x, y):\n",
    "    alist[x], alist[y] = alist[y], alist[x]\n",
    "\n",
    "def insertion(alist):\n",
    "    for i in range(1, len(alist)):\n",
    "        p = i\n",
    "        print(alist[:i])\n",
    "        print(alist[i])\n",
    "        while i > 0 and alist[i] < alist[i-1]:\n",
    "            print(alist[:p+1])\n",
    "            swap(alist, i , i - 1)\n",
    "            i -= 1\n",
    "\n",
    "insertion(alist)\n",
    "print(alist)"
   ]
  },
  {
   "cell_type": "markdown",
   "metadata": {},
   "source": [
    "## Merge Sort"
   ]
  },
  {
   "cell_type": "markdown",
   "metadata": {},
   "source": [
    "#### How it Works"
   ]
  },
  {
   "cell_type": "code",
   "execution_count": 26,
   "metadata": {},
   "outputs": [
    {
     "name": "stdout",
     "output_type": "stream",
     "text": [
      "SPLITTING: [9, 5, 3, 7, 2, 1, 8, 4]\n",
      "Left half: [9, 5, 3, 7], right half: [2, 1, 8, 4]\n",
      "SPLITTING: [9, 5, 3, 7]\n",
      "Left half: [9, 5], right half: [3, 7]\n",
      "SPLITTING: [9, 5]\n",
      "Left half: [9], right half: [5]\n",
      "merging left: [9], right: [5]\n",
      "Merged [5, 9]\n",
      "SPLITTING: [3, 7]\n",
      "Left half: [3], right half: [7]\n",
      "merging left: [3], right: [7]\n",
      "Merged [3, 7]\n",
      "merging left: [5, 9], right: [3, 7]\n",
      "Merged [3, 5, 7, 9]\n",
      "SPLITTING: [2, 1, 8, 4]\n",
      "Left half: [2, 1], right half: [8, 4]\n",
      "SPLITTING: [2, 1]\n",
      "Left half: [2], right half: [1]\n",
      "merging left: [2], right: [1]\n",
      "Merged [1, 2]\n",
      "SPLITTING: [8, 4]\n",
      "Left half: [8], right half: [4]\n",
      "merging left: [8], right: [4]\n",
      "Merged [4, 8]\n",
      "merging left: [1, 2], right: [4, 8]\n",
      "Merged [1, 2, 4, 8]\n",
      "merging left: [3, 5, 7, 9], right: [1, 2, 4, 8]\n",
      "Merged [1, 2, 3, 4, 5, 7, 8, 9]\n",
      "[1, 2, 3, 4, 5, 7, 8, 9]\n"
     ]
    }
   ],
   "source": [
    "#using reecursion continuosly break down your list until base case of single item list\n",
    "#then begin mergin until one list is empty\n",
    "#fill in from non empty list\n",
    "blist = [9, 5, 3, 7, 2, 1, 8 ,4]\n",
    "def mergeSort(alist):\n",
    "\n",
    "    if len(alist) > 1:\n",
    "        middle = len(alist) // 2\n",
    "        left_half = alist[:middle]\n",
    "        right_half = alist[middle:]\n",
    "        print(f'SPLITTING: {alist}')\n",
    "        print(f'Left half: {left_half}, right half: {right_half}')\n",
    "\n",
    "        mergeSort(left_half)\n",
    "        mergeSort(right_half)\n",
    "\n",
    "        print(f'merging left: {left_half}, right: {right_half}')\n",
    "\n",
    "        l = 0 #pointer for left list\n",
    "        r = 0 #pointer for right list\n",
    "        m = 0 #ponter for main list\n",
    "\n",
    "        #compare elements in left and right merging them in, until one list is empty\n",
    "\n",
    "        while l < len(left_half) and r < len(right_half):\n",
    "\n",
    "            if left_half[l] < right_half[r]:\n",
    "                alist[m] = left_half[l]\n",
    "                l += 1\n",
    "            else:\n",
    "                alist[m] = right_half[r]\n",
    "                r += 1\n",
    "\n",
    "            m += 1\n",
    "\n",
    "        #once a list has been emptied, fill in from the non-empty list\n",
    "        \n",
    "        while l < len(left_half):\n",
    "            alist[m] = left_half[l]\n",
    "            l+= 1\n",
    "            m+= 1\n",
    "\n",
    "        while r < len(right_half):\n",
    "            alist[m] = right_half[r]\n",
    "            r+= 1\n",
    "            m += 1\n",
    "        print(f'Merged {alist}')\n",
    "        \n",
    "\n",
    "        \n",
    "mergeSort(blist)\n",
    "print(blist)\n"
   ]
  },
  {
   "cell_type": "markdown",
   "metadata": {},
   "source": [
    "# Binary Search\n",
    "\n",
    "The Binary Search algorithm works by finding the number in the middle of a given array and comparing it to the target. Given that the array is sorted\n",
    "\n",
    "* The worst case run time for this algorithm is `O(log(n))`"
   ]
  },
  {
   "cell_type": "code",
   "execution_count": 28,
   "metadata": {},
   "outputs": [
    {
     "name": "stdout",
     "output_type": "stream",
     "text": [
      "Target not in list\n"
     ]
    }
   ],
   "source": [
    "\n",
    "\n",
    "\n",
    "def binarySearch(alist, target):\n",
    "    left = 0\n",
    "    right = len(alist) - 1\n",
    "    while left <= right:\n",
    "        middle = (left + right) // 2\n",
    "        potential = alist[middle]\n",
    "        if target == potential:\n",
    "            return f'WINNER WINNER CHICKEN DINNER found target at index {middle}'\n",
    "        elif target < potential:\n",
    "            right = middle - 1\n",
    "        elif target > potential:\n",
    "            left = middle + 1\n",
    "        \n",
    "    return 'Target not in list'\n",
    "\n",
    "alist = [1,2,3,4,5,6,7,8,9,10]\n",
    "\n",
    "print(binarySearch(alist, 11))\n"
   ]
  },
  {
   "cell_type": "markdown",
   "metadata": {},
   "source": [
    "# Exercises"
   ]
  },
  {
   "cell_type": "markdown",
   "metadata": {},
   "source": [
    "### Exercise #1 <br>\n",
    "<p>Reverse the list below in-place using an in-place algorithm.<br>For extra credit: Reverse the strings at the same time.</p>"
   ]
  },
  {
   "cell_type": "code",
   "execution_count": 1,
   "metadata": {},
   "outputs": [
    {
     "name": "stdout",
     "output_type": "stream",
     "text": [
      "Original String: 20\n",
      "Reversed String: 02\n"
     ]
    }
   ],
   "source": [
    "def reverse_place(data):\n",
    "    start, end = 0, len(data) - 1\n",
    "    while start < end:\n",
    "        data[start], data[end] = data[end], data[start]\n",
    "        start += 1\n",
    "        end -= 1\n",
    "\n",
    "\n",
    "if __name__ == \"__main__\":\n",
    "    user_input = input(\"Enter a string: \")\n",
    "    my_list = list(user_input)\n",
    "\n",
    "    print(\"Original String:\", ''.join(my_list))\n",
    "\n",
    "    reverse_place(my_list)\n",
    "\n",
    "    print(\"Reversed String:\", ''.join(my_list))"
   ]
  },
  {
   "cell_type": "markdown",
   "metadata": {},
   "source": [
    "### Exercise #2 <br>\n",
    "<p>Create a function that counts how many distinct words are in the string below, then outputs a dictionary with the words as the key and the value as the amount of times that word appears in the string.<br>Should output:<br>{'a': 5,<br>\n",
    " 'abstract': 1,<br>\n",
    " 'an': 3,<br>\n",
    " 'array': 2, ... etc...</p>"
   ]
  },
  {
   "cell_type": "code",
   "execution_count": 6,
   "metadata": {},
   "outputs": [
    {
     "ename": "SyntaxError",
     "evalue": "invalid syntax (3018643747.py, line 23)",
     "output_type": "error",
     "traceback": [
      "\u001b[0;36m  Cell \u001b[0;32mIn[6], line 23\u001b[0;36m\u001b[0m\n\u001b[0;31m    for word, frequency in the result.items():\u001b[0m\n\u001b[0m                               ^\u001b[0m\n\u001b[0;31mSyntaxError\u001b[0m\u001b[0;31m:\u001b[0m invalid syntax\n"
     ]
    }
   ],
   "source": [
    "def Count_Word_Frequency(input_string):\n",
    "    words = input_string.split()\n",
    "    word_frequency = {}\n",
    "\n",
    "    for word in words:\n",
    "        # Remove punctuation and convert to lowercase for better matching\n",
    "        cleaned_word = word.strip(\".,?!\").lower()\n",
    "\n",
    "        if cleaned_word in word_frequency:\n",
    "            word_frequency[cleaned_word] += 1\n",
    "        else:\n",
    "            word_frequency[cleaned_word] = 1\n",
    "\n",
    "    return word_frequency\n",
    "\n",
    "\n",
    "if __name__ == \"__main__\":\n",
    "    input_string = \"This is a sample string. This string contains sampe words, and few words may be repeat.\"\n",
    "\n",
    "    result = Count_Word_Frequency(input_string)\n",
    "\n",
    "    print(\"Word Frequency Dictionary:\")\n",
    "    for word, frequency in the result.items():\n",
    "        print(f\"{word}: {frequency}\")"
   ]
  },
  {
   "cell_type": "markdown",
   "metadata": {},
   "source": [
    "## Exercise #3\n",
    "\n",
    "Write a program to implement a Linear Search Algorithm. Also in a comment, write the Time Complexity of the following algorithm.\n",
    "\n",
    "#### Hint: Linear Searching will require searching a list for a given number. "
   ]
  },
  {
   "cell_type": "code",
   "execution_count": 3,
   "metadata": {},
   "outputs": [
    {
     "name": "stdout",
     "output_type": "stream",
     "text": [
      "your given number has been found\n"
     ]
    }
   ],
   "source": [
    " def num():\n",
    "    b= -1\n",
    "    x = int(input(\"please enter a number\"))\n",
    "    a = [20,30,40,14]\n",
    "    for c in range (len(a)):\n",
    "      if (a[c]==x):\n",
    "         b = 1\n",
    "    if b == 1:\n",
    "     print(\"your given number has been found\")\n",
    "    else:\n",
    "     print(\"you number hasn't been found\")\n",
    "num()\n",
    "    \n",
    "#output the index of the target if it exists"
   ]
  }
 ],
 "metadata": {
  "kernelspec": {
   "display_name": "Python 3.10.8 64-bit (microsoft store)",
   "language": "python",
   "name": "python3"
  },
  "language_info": {
   "codemirror_mode": {
    "name": "ipython",
    "version": 3
   },
   "file_extension": ".py",
   "mimetype": "text/x-python",
   "name": "python",
   "nbconvert_exporter": "python",
   "pygments_lexer": "ipython3",
   "version": "3.12.1"
  },
  "vscode": {
   "interpreter": {
    "hash": "aa82987a71ca0339a52998cd22613b0c002bda8349fa32a0cb67ceec3936a2bf"
   }
  }
 },
 "nbformat": 4,
 "nbformat_minor": 2
}
